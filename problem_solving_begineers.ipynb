{
  "nbformat": 4,
  "nbformat_minor": 0,
  "metadata": {
    "colab": {
      "provenance": []
    },
    "kernelspec": {
      "name": "python3",
      "display_name": "Python 3"
    },
    "language_info": {
      "name": "python"
    }
  },
  "cells": [
    {
      "cell_type": "markdown",
      "source": [
        "# **problem solving begin**"
      ],
      "metadata": {
        "id": "2LctxPzKLaqd"
      }
    },
    {
      "cell_type": "code",
      "execution_count": null,
      "metadata": {
        "id": "wv2xVbzcLYLf"
      },
      "outputs": [],
      "source": [
        "\"\"\"You are provided with a number check whether its odd or even.\n",
        "\n",
        "Print \"Odd\" or \"Even\" for the corresponding cases.\n",
        "\n",
        "Note: In case of a decimal, Round off to nearest integer and then find the output. Incase the input is zero, print \"Zero\".\n",
        "\n",
        "Input Description:\n",
        "A number is provided as the input.\n",
        "\n",
        "Output Description:\n",
        "Find out whether the number is odd or even. Print \"Odd\" or \"Even\" for the corresponding cases. Note: In case of a decimal, Round off to nearest integer and then find the output. In case the input is zero, print \"Zero\".\n",
        "\n",
        "Sample Input :\n",
        "2\n",
        "Sample Output :\n",
        "Even"
      ]
    },
    {
      "cell_type": "code",
      "source": [
        "\n",
        "a = float(input())\n",
        "a = round(a)\n",
        "\n",
        "\n",
        "if a == 0:\n",
        "    print(\"Zero\")\n",
        "\n",
        "elif a % 2 == 0:\n",
        "    print(\"Even\")\n",
        "\n",
        "else:\n",
        "    print(\"Odd\")\n"
      ],
      "metadata": {
        "id": "O7IdjYfHLzHc"
      },
      "execution_count": null,
      "outputs": []
    },
    {
      "cell_type": "code",
      "source": [
        "\"\"\"You are given with a number A i.e. the temperature in Celcius. Write a program to convert this into Fahrenheit.\n",
        "\n",
        "Note: In case of decimal values, round-off to two decimal places.\n",
        "\n",
        "Input Description:\n",
        "A number is provided in Celcius as the input of the program.\n",
        "\n",
        "Output Description:\n",
        "The output shall be the temperature converted into Fahrenheit corresponding to the input value print up to two decimal places and round off if required.\n",
        "\n",
        "Sample Input :\n",
        "12\n",
        "Sample Output :\n",
        "53.60"
      ],
      "metadata": {
        "id": "Cl8ZhtdSLzeh"
      },
      "execution_count": null,
      "outputs": []
    },
    {
      "cell_type": "code",
      "source": [
        "\n",
        "celsius = float(input())\n",
        "\n",
        "\n",
        "fahrenheit = (celsius * 9/5) + 32\n",
        "\n",
        "\n",
        "fahrenheit = round(fahrenheit, 2)\n",
        "\n",
        "\n",
        "print(fahrenheit)\n"
      ],
      "metadata": {
        "id": "mx02HdxMLzp9"
      },
      "execution_count": null,
      "outputs": []
    },
    {
      "cell_type": "code",
      "source": [
        "\"\"\"You are given A = Length of a rectangle & B = breadth of a rectangle. Find its area “C”.\n",
        "\n",
        "(A and B are natural numbers)\n",
        "\n",
        "Input Description:\n",
        "The inputs are two natural numbers representing the length and the breadth of a rectangle.\n",
        "\n",
        "Output Description:\n",
        "Find the area of the rectangle formed by the provided input. Round off the answer to the first decimal place if required.\n",
        "\n",
        "Sample Input :\n",
        "2\n",
        "3\n",
        "Sample Output :\n",
        "6"
      ],
      "metadata": {
        "id": "pAEKF2piLzv5"
      },
      "execution_count": null,
      "outputs": []
    },
    {
      "cell_type": "code",
      "source": [
        "\n",
        "length = float(input())\n",
        "breadth = float(input())\n",
        "\n",
        "area = length * breadth\n",
        "\n",
        "area = round(area, 1)\n",
        "\n",
        "print(area)\n"
      ],
      "metadata": {
        "id": "SaxHQfjDLzzV"
      },
      "execution_count": null,
      "outputs": []
    },
    {
      "cell_type": "code",
      "source": [
        "\"\"\"You are given a number A in Kilometers. Convert this into B: Meters and C: Centi-Metres.\n",
        "\n",
        "Input Description:\n",
        "A number \"A\" representing some distance in kilometer is provided to you as the input.\n",
        "\n",
        "Output Description:\n",
        "Convert and print this value in meters and centimeters.\n",
        "\n",
        "Sample Input :\n",
        "2\n",
        "Sample Output :\n",
        "2000\n",
        "200000"
      ],
      "metadata": {
        "id": "XC1xGBxjNUGp"
      },
      "execution_count": null,
      "outputs": []
    },
    {
      "cell_type": "code",
      "source": [
        "\n",
        "kilometers = float(input())\n",
        "\n",
        "\n",
        "meters = kilometers * 1000\n",
        "centimeters = kilometers * 100000\n",
        "\n",
        "\n",
        "print(int(meters))\n",
        "print(int(centimeters))\n"
      ],
      "metadata": {
        "id": "pO3KlOT4NUJw"
      },
      "execution_count": null,
      "outputs": []
    },
    {
      "cell_type": "code",
      "source": [
        "\"\"\"You are given with a number \"N\", find its cube.\n",
        "\n",
        "Input Description:\n",
        "A positive integer is provided.\n",
        "\n",
        "Output Description:\n",
        "Find the cube of the number.\n",
        "\n",
        "Sample Input :\n",
        "2\n",
        "Sample Output :\n",
        "8"
      ],
      "metadata": {
        "id": "wY4eR8gzNUMb"
      },
      "execution_count": null,
      "outputs": []
    },
    {
      "cell_type": "code",
      "source": [
        "a = int(input())\n",
        "cube = a ** 3\n",
        "print(cube)\n"
      ],
      "metadata": {
        "id": "NMKASVb7NUPf"
      },
      "execution_count": null,
      "outputs": []
    },
    {
      "cell_type": "code",
      "source": [
        "\"\"\"# Input\n",
        "A = int(input())\n",
        "B = int(input())\n",
        "C = int(input())\n",
        "\n",
        "# Find the largest number\n",
        "if A >= B and A >= C:\n",
        "    largest = A\n",
        "elif B >= A and B >= C:\n",
        "    largest = B\n",
        "else:\n",
        "    largest = C\n",
        "\n",
        "# Output\n",
        "print(largest)\n"
      ],
      "metadata": {
        "id": "K5u7QCL7NUSb"
      },
      "execution_count": null,
      "outputs": []
    },
    {
      "cell_type": "code",
      "source": [
        "A = int(input())\n",
        "B = int(input())\n",
        "C = int(input())\n",
        "if A >= B and A >= C:\n",
        "    largest = A\n",
        "elif B >= A and B >= C:\n",
        "    largest = B\n",
        "else:\n",
        "    largest = C\n",
        "print(largest)\n"
      ],
      "metadata": {
        "id": "rsHTI4TbNUUr"
      },
      "execution_count": null,
      "outputs": []
    },
    {
      "cell_type": "code",
      "source": [
        "\"\"\"You are provided with two numbers. Find and print the smaller number.\n",
        "\n",
        "Input Description:\n",
        "You are provided with two numbers as input.\n",
        "\n",
        "Output Description:\n",
        "Print the small number out of the two numbers.\n",
        "\n",
        "Sample Input :\n",
        "23 1\n",
        "Sample Output :\n",
        "1"
      ],
      "metadata": {
        "id": "FIAS6tUgNUXP"
      },
      "execution_count": null,
      "outputs": []
    },
    {
      "cell_type": "code",
      "source": [
        "numbers = input().split()\n",
        "number1 = int(numbers[0])\n",
        "number2 = int(numbers[1])\n",
        "if number1 < number2:\n",
        "    smaller = number1\n",
        "else:\n",
        "    smaller = number2\n",
        "print(smaller)\n"
      ],
      "metadata": {
        "id": "Z19t21C9NUaA"
      },
      "execution_count": null,
      "outputs": []
    },
    {
      "cell_type": "code",
      "source": [
        "\"\"\"You are provided with a number \"N\", Find the Nth term of the series: 1, 4, 9, 16, 25, 36, 49, 64, 81, .......\n",
        "\n",
        "(Print \"Error\" if N = negative value and 0 if N = 0).\n",
        "\n",
        "Input Description:\n",
        "An integer N is provided to you as the input.\n",
        "\n",
        "Output Description:\n",
        "Find the Nth term in the provided series.\n",
        "\n",
        "Sample Input :\n",
        "18\n",
        "Sample Output :\n",
        "324"
      ],
      "metadata": {
        "id": "TqxfEwg6NUdU"
      },
      "execution_count": null,
      "outputs": []
    },
    {
      "cell_type": "code",
      "source": [
        "N = int(input())\n",
        "if N <= 0:\n",
        "    print(\"Error\")\n",
        "else:\n",
        "    Nth_term = N ** 2\n",
        "    print(Nth_term)\n"
      ],
      "metadata": {
        "id": "qOD1IIPnNUxT"
      },
      "execution_count": null,
      "outputs": []
    },
    {
      "cell_type": "code",
      "source": [],
      "metadata": {
        "id": "R1p6K3ljNU0P"
      },
      "execution_count": null,
      "outputs": []
    },
    {
      "cell_type": "code",
      "source": [],
      "metadata": {
        "id": "Idn5rp1oNU3p"
      },
      "execution_count": null,
      "outputs": []
    },
    {
      "cell_type": "code",
      "source": [],
      "metadata": {
        "id": "MYQxrLRgNU91"
      },
      "execution_count": null,
      "outputs": []
    },
    {
      "cell_type": "code",
      "source": [],
      "metadata": {
        "id": "ylIrLl6ENVBO"
      },
      "execution_count": null,
      "outputs": []
    }
  ]
}