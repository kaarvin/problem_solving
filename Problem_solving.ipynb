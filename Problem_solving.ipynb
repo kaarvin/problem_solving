{
  "nbformat": 4,
  "nbformat_minor": 0,
  "metadata": {
    "colab": {
      "provenance": []
    },
    "kernelspec": {
      "name": "python3",
      "display_name": "Python 3"
    },
    "language_info": {
      "name": "python"
    }
  },
  "cells": [
    {
      "cell_type": "markdown",
      "source": [
        "# **basci python problem**"
      ],
      "metadata": {
        "id": "14DPvtVPl0V3"
      }
    },
    {
      "cell_type": "code",
      "execution_count": null,
      "metadata": {
        "id": "JBMwVkfDly_k"
      },
      "outputs": [],
      "source": [
        "\"\"\"input Description:\n",
        "A single line contains three float values separated by space.\n",
        "\n",
        "Output Description:\n",
        "Print the float value separated by line.\n",
        "\n",
        "Sample Input :\n",
        "2.3 4.5 7.8\n",
        "Sample Output :\n",
        "2.3\n",
        "4.5\n",
        "7.8\"\"\""
      ]
    },
    {
      "cell_type": "code",
      "source": [
        "a= input()\n",
        "float = a.split()\n",
        "for a in float:\n",
        "    print(a)\n"
      ],
      "metadata": {
        "id": "t0i-9TBymHr-"
      },
      "execution_count": null,
      "outputs": []
    },
    {
      "cell_type": "code",
      "source": [
        "\"\"\"Write a code to get the input in the given format and print the output in the given format.\n",
        "\n",
        "Input Description:\n",
        "A single line contains a string.\n",
        "\n",
        "Output Description:\n",
        "Print the characters in a string separated by line.\n",
        "\n",
        "Sample Input :\n",
        "guvigeek\n",
        "Sample Output :\n",
        "g\n",
        "u\n",
        "v\n",
        "i\n",
        "g\n",
        "e\n",
        "e\n",
        "k"
      ],
      "metadata": {
        "id": "uXiO3mXenipA"
      },
      "execution_count": null,
      "outputs": []
    },
    {
      "cell_type": "code",
      "source": [
        "# Input\n",
        "a = input()\n",
        "\n",
        "# Output\n",
        "for char in a:\n",
        "    print(char)\n"
      ],
      "metadata": {
        "id": "drfVNqFntJaF"
      },
      "execution_count": null,
      "outputs": []
    },
    {
      "cell_type": "code",
      "source": [
        "\"\"\"Write a code to get the input in the given format and print the output in the given format.\n",
        "\n",
        "Input Description:\n",
        "A single line contains a string.\n",
        "\n",
        "Output Description:\n",
        "Print the characters in a string separated by comma.\n",
        "\n",
        "Sample Input :\n",
        "guvi\n",
        "Sample Output :\n",
        "g,u,v,i"
      ],
      "metadata": {
        "id": "BqL5fnUCtrqx"
      },
      "execution_count": null,
      "outputs": []
    },
    {
      "cell_type": "code",
      "source": [
        "a = input()\n",
        "\n",
        "output_string = \",\".join(a)\n",
        "print(output_string)\n"
      ],
      "metadata": {
        "id": "oyOwmlVmttH6"
      },
      "execution_count": null,
      "outputs": []
    }
  ]
}